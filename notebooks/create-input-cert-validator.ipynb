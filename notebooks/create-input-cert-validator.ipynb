{
 "cells": [
  {
   "cell_type": "code",
   "execution_count": 2,
   "id": "062d797c-8398-4942-aacc-c6c275b0499d",
   "metadata": {},
   "outputs": [
    {
     "name": "stdout",
     "output_type": "stream",
     "text": [
      "SparkConf created\n",
      "Started SparkSession\n",
      "Spark version 3.3.1\n"
     ]
    }
   ],
   "source": [
    "%run ./spark-instance.ipynb"
   ]
  },
  {
   "cell_type": "code",
   "execution_count": 3,
   "id": "7c3ffa0e-2ca3-4d17-bc3d-66caf4794063",
   "metadata": {},
   "outputs": [],
   "source": [
    "from datetime import datetime\n",
    "\n",
    "import pyspark.sql.functions as psf\n",
    "from pyspark.sql.types import ArrayType, IntegerType"
   ]
  },
  {
   "cell_type": "markdown",
   "id": "ee1c2fce-d7e4-43e7-9655-dc0eabebc9cf",
   "metadata": {},
   "source": [
    "## Generate input for X.509 validator tool"
   ]
  },
  {
   "cell_type": "markdown",
   "id": "b0914d32-5459-44f7-94ed-fb1f8e5fef30",
   "metadata": {},
   "source": [
    "#this was used for the example input (date of 2023-09-12)\n",
    "\n",
    "hosts_df.select(\"id\", \"cert_id\", \"peer_certificates\", \"cert_valid\") \\\n",
    "        .filter((psf.col(\"id\") == 830) | (psf.col(\"id\") == 159) | (psf.col(\"id\") == 31)) \\\n",
    "        .show(truncate=False)\n",
    "certs_df.filter(psf.col(\"id\") == 166).show()\n",
    "cert_chain_df.filter(psf.col(\"chain_complete\") == 0).show(2)"
   ]
  },
  {
   "cell_type": "code",
   "execution_count": 7,
   "id": "ff4a6678-1729-4c25-a84d-725a492d18f7",
   "metadata": {},
   "outputs": [],
   "source": [
    "def eval_list(my_list):\n",
    "    try:\n",
    "        if isinstance(my_list, str):\n",
    "            return eval(my_list)\n",
    "        else:\n",
    "            return []\n",
    "    except:\n",
    "        return []\n",
    "\n",
    "    \n",
    "eval_udf = psf.udf(eval_list, ArrayType(IntegerType()))\n",
    "\n",
    "\n",
    "def explode_cert_chain(cert_chain_df):\n",
    "    cert_chain_df = cert_chain_df.withColumn(\"cert_chain_list\", eval_udf(psf.col(\"cert_chain\")))\n",
    "    exploded_chain_df = cert_chain_df.select(\"id\", \"cert_chain_list\", psf.explode_outer(cert_chain_df.cert_chain_list))\n",
    "    #exploded_chain_df.show(5)\n",
    "    return exploded_chain_df\n",
    "\n",
    "\n",
    "def group_cert_chain(exploded_chain_df, certs_df):\n",
    "    joined_certs_df = exploded_chain_df.withColumnRenamed(\"id\", \"chain_id\").join(certs_df, (certs_df.id == exploded_chain_df.col), \"inner\")\n",
    "    \n",
    "    grouped_chain_df = joined_certs_df.groupBy('chain_id') \\\n",
    "                                      .agg(psf.collect_list('cert').alias(\"chain\")) \\\n",
    "                                      .withColumnRenamed(\"chain_id\", \"id\")\n",
    "    #grouped_chain_df.show(5)\n",
    "    #grouped_chain_df.printSchema()\n",
    "    return grouped_chain_df\n",
    "\n",
    "\n",
    "def write_to_tmp(grouped_chain_df, output):\n",
    "    grouped_chain_df.coalesce(1).write.parquet(f\"s3a://{output}\")\n",
    "    spark.read.parquet(f\"s3a://{output}\").count()"
   ]
  },
  {
   "cell_type": "code",
   "execution_count": 9,
   "id": "aa98bf13-0831-4b31-bd8e-d713ebbfff44",
   "metadata": {},
   "outputs": [],
   "source": [
    "PORT_SCANDATE_MAP = {\n",
    "    636: [\n",
    "        datetime(2023, 9, 5),\n",
    "        datetime(2023, 9, 12),\n",
    "        datetime(2023, 9, 19),\n",
    "        datetime(2023, 9, 26),\n",
    "    ],\n",
    "    389: [\n",
    "        datetime(2023, 8, 30),\n",
    "        datetime(2023, 9, 6),\n",
    "        datetime(2023, 9, 13),\n",
    "        datetime(2023, 9, 20),\n",
    "        datetime(2023, 9, 27),\n",
    "        datetime(2023, 10, 4),\n",
    "    ]\n",
    "}\n",
    "\n",
    "S3_PATH_FMT = \"catrin/measurements/tool=goscanner/format=raw/port={port}/scan=tls/result={result}/year={year}/month={month:02d}/day={day:02d}\"\n",
    "OUTPUT_DIR = f\"luvizottocesarg-tmp/cert-validator-input\"\n",
    "\n",
    "for port, scan_dates in PORT_SCANDATE_MAP.items():\n",
    "    for scan_date in scan_dates:\n",
    "\n",
    "        timestamp = f\"{scan_date.year}{scan_date.month:02}{scan_date.day:02}\"\n",
    "        output = f\"{OUTPUT_DIR}/{timestamp}_{port}_cert-validator-input\"\n",
    "\n",
    "        certs_base_path = S3_PATH_FMT.format(port=port, result=\"certs\", year=scan_date.year, month=scan_date.month, day=scan_date.day)\n",
    "        cert_chain_base_path = S3_PATH_FMT.format(port=port, result=\"cert_chain\", year=scan_date.year, month=scan_date.month, day=scan_date.day)\n",
    "\n",
    "        certs_df = spark.read.option(\"header\", \"true\") \\\n",
    "                             .option(\"multiline\", \"true\") \\\n",
    "                             .option(\"wholeFile\", \"true\") \\\n",
    "                             .option(\"inferSchema\", \"true\") \\\n",
    "                             .option(\"basePath\", f\"s3a://{certs_base_path}\") \\\n",
    "                             .csv(f\"s3a://{certs_base_path}\")\n",
    "\n",
    "\n",
    "        cert_chain_df = spark.read.option(\"header\", \"true\") \\\n",
    "                                  .option(\"inferSchema\", \"true\") \\\n",
    "                                  .option(\"basePath\", f\"s3a://{cert_chain_base_path}\") \\\n",
    "                                  .csv(f\"s3a://{cert_chain_base_path}\")\n",
    "\n",
    "        exploded_chain_df = explode_cert_chain(cert_chain_df)\n",
    "        grouped_chain_df = group_cert_chain(exploded_chain_df, certs_df)\n",
    "        write_to_tmp(grouped_chain_df, output)"
   ]
  },
  {
   "cell_type": "code",
   "execution_count": 10,
   "id": "71815da5-bcee-4bb8-a8af-65cc217636f3",
   "metadata": {},
   "outputs": [
    {
     "name": "stdout",
     "output_type": "stream",
     "text": [
      "CLEANING SPARK INSTANCE...\n"
     ]
    }
   ],
   "source": [
    "clean_spark()  # run by EOB"
   ]
  }
 ],
 "metadata": {
  "kernelspec": {
   "display_name": "Python 3 (ipykernel)",
   "language": "python",
   "name": "python3"
  },
  "language_info": {
   "codemirror_mode": {
    "name": "ipython",
    "version": 3
   },
   "file_extension": ".py",
   "mimetype": "text/x-python",
   "name": "python",
   "nbconvert_exporter": "python",
   "pygments_lexer": "ipython3",
   "version": "3.9.15"
  }
 },
 "nbformat": 4,
 "nbformat_minor": 5
}
